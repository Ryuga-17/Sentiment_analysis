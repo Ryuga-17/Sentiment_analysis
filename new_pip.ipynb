{
  "metadata": {
    "kernelspec": {
      "language": "python",
      "display_name": "Python 3",
      "name": "python3"
    },
    "language_info": {
      "name": "python",
      "version": "3.10.12",
      "mimetype": "text/x-python",
      "codemirror_mode": {
        "name": "ipython",
        "version": 3
      },
      "pygments_lexer": "ipython3",
      "nbconvert_exporter": "python",
      "file_extension": ".py"
    },
    "kaggle": {
      "accelerator": "none",
      "dataSources": [
        {
          "sourceId": 3205803,
          "sourceType": "datasetVersion",
          "datasetId": 1918992
        }
      ],
      "dockerImageVersionId": 30822,
      "isInternetEnabled": false,
      "language": "python",
      "sourceType": "notebook",
      "isGpuEnabled": false
    },
    "colab": {
      "name": "notebook301f3e7fd5",
      "provenance": [],
      "include_colab_link": true
    }
  },
  "nbformat_minor": 0,
  "nbformat": 4,
  "cells": [
    {
      "cell_type": "markdown",
      "metadata": {
        "id": "view-in-github",
        "colab_type": "text"
      },
      "source": [
        "<a href=\"https://colab.research.google.com/github/Ryuga-17/Sentiment_analysis/blob/main/new_pip.ipynb\" target=\"_parent\"><img src=\"https://colab.research.google.com/assets/colab-badge.svg\" alt=\"Open In Colab\"/></a>"
      ]
    },
    {
      "source": [
        "# IMPORTANT: RUN THIS CELL IN ORDER TO IMPORT YOUR KAGGLE DATA SOURCES,\n",
        "# THEN FEEL FREE TO DELETE THIS CELL.\n",
        "# NOTE: THIS NOTEBOOK ENVIRONMENT DIFFERS FROM KAGGLE'S PYTHON\n",
        "# ENVIRONMENT SO THERE MAY BE MISSING LIBRARIES USED BY YOUR\n",
        "# NOTEBOOK.\n",
        "import kagglehub\n",
        "sbhatti_financial_sentiment_analysis_path = kagglehub.dataset_download('sbhatti/financial-sentiment-analysis')\n",
        "\n",
        "print('Data source import complete.')\n"
      ],
      "metadata": {
        "id": "Uv5iuX33UpRU",
        "outputId": "7fb4573a-85d5-4c53-a802-a226d9ba6802",
        "colab": {
          "base_uri": "https://localhost:8080/"
        }
      },
      "cell_type": "code",
      "outputs": [
        {
          "output_type": "stream",
          "name": "stdout",
          "text": [
            "Data source import complete.\n"
          ]
        }
      ],
      "execution_count": 1
    },
    {
      "cell_type": "code",
      "source": [
        "# This Python 3 environment comes with many helpful analytics libraries installed\n",
        "# It is defined by the kaggle/python Docker image: https://github.com/kaggle/docker-python\n",
        "# For example, here's several helpful packages to load\n",
        "\n",
        "import numpy as np # linear algebra\n",
        "import pandas as pd # data processing, CSV file I/O (e.g. pd.read_csv)\n",
        "\n",
        "# Input data files are available in the read-only \"../input/\" directory\n",
        "# For example, running this (by clicking run or pressing Shift+Enter) will list all files under the input directory\n",
        "\n",
        "import os\n",
        "for dirname, _, filenames in os.walk('/kaggle/input'):\n",
        "    for filename in filenames:\n",
        "        print(os.path.join(dirname, filename))\n",
        "\n",
        "# You can write up to 20GB to the current directory (/kaggle/working/) that gets preserved as output when you create a version using \"Save & Run All\"\n",
        "# You can also write temporary files to /kaggle/temp/, but they won't be saved outside of the current session"
      ],
      "metadata": {
        "_uuid": "8f2839f25d086af736a60e9eeb907d3b93b6e0e5",
        "_cell_guid": "b1076dfc-b9ad-4769-8c92-a6c4dae69d19",
        "trusted": true,
        "execution": {
          "iopub.status.busy": "2024-12-19T07:31:47.862596Z",
          "iopub.execute_input": "2024-12-19T07:31:47.863075Z",
          "iopub.status.idle": "2024-12-19T07:31:48.312025Z",
          "shell.execute_reply.started": "2024-12-19T07:31:47.863037Z",
          "shell.execute_reply": "2024-12-19T07:31:48.310923Z"
        },
        "id": "6x7y4zu1UpRW"
      },
      "outputs": [],
      "execution_count": 2
    },
    {
      "cell_type": "code",
      "source": [
        "df=pd.read_csv('/content/data (1).csv')"
      ],
      "metadata": {
        "trusted": true,
        "execution": {
          "iopub.status.busy": "2024-12-19T07:32:45.88245Z",
          "iopub.execute_input": "2024-12-19T07:32:45.883177Z",
          "iopub.status.idle": "2024-12-19T07:32:45.932885Z",
          "shell.execute_reply.started": "2024-12-19T07:32:45.883139Z",
          "shell.execute_reply": "2024-12-19T07:32:45.931558Z"
        },
        "id": "ol07Wh00UpRX"
      },
      "outputs": [],
      "execution_count": 3
    },
    {
      "cell_type": "code",
      "source": [
        "df.isnull().sum()"
      ],
      "metadata": {
        "trusted": true,
        "execution": {
          "iopub.status.busy": "2024-12-19T07:33:52.68051Z",
          "iopub.execute_input": "2024-12-19T07:33:52.681054Z",
          "iopub.status.idle": "2024-12-19T07:33:52.6922Z",
          "shell.execute_reply.started": "2024-12-19T07:33:52.681011Z",
          "shell.execute_reply": "2024-12-19T07:33:52.690762Z"
        },
        "id": "xkllN5HDUpRY",
        "outputId": "57c38375-8c5d-4d9d-9e8a-60e843ae654f",
        "colab": {
          "base_uri": "https://localhost:8080/",
          "height": 147
        }
      },
      "outputs": [
        {
          "output_type": "execute_result",
          "data": {
            "text/plain": [
              "Sentence     0\n",
              "Sentiment    0\n",
              "dtype: int64"
            ],
            "text/html": [
              "<div>\n",
              "<style scoped>\n",
              "    .dataframe tbody tr th:only-of-type {\n",
              "        vertical-align: middle;\n",
              "    }\n",
              "\n",
              "    .dataframe tbody tr th {\n",
              "        vertical-align: top;\n",
              "    }\n",
              "\n",
              "    .dataframe thead th {\n",
              "        text-align: right;\n",
              "    }\n",
              "</style>\n",
              "<table border=\"1\" class=\"dataframe\">\n",
              "  <thead>\n",
              "    <tr style=\"text-align: right;\">\n",
              "      <th></th>\n",
              "      <th>0</th>\n",
              "    </tr>\n",
              "  </thead>\n",
              "  <tbody>\n",
              "    <tr>\n",
              "      <th>Sentence</th>\n",
              "      <td>0</td>\n",
              "    </tr>\n",
              "    <tr>\n",
              "      <th>Sentiment</th>\n",
              "      <td>0</td>\n",
              "    </tr>\n",
              "  </tbody>\n",
              "</table>\n",
              "</div><br><label><b>dtype:</b> int64</label>"
            ]
          },
          "metadata": {},
          "execution_count": 4
        }
      ],
      "execution_count": 4
    },
    {
      "cell_type": "code",
      "source": [
        "df.head()"
      ],
      "metadata": {
        "trusted": true,
        "execution": {
          "iopub.status.busy": "2024-12-19T07:38:30.845014Z",
          "iopub.execute_input": "2024-12-19T07:38:30.845428Z",
          "iopub.status.idle": "2024-12-19T07:38:30.85656Z",
          "shell.execute_reply.started": "2024-12-19T07:38:30.845398Z",
          "shell.execute_reply": "2024-12-19T07:38:30.855339Z"
        },
        "id": "zDWZhNmuUpRY",
        "outputId": "7f947b16-c6aa-4ba9-9495-933832bbce29",
        "colab": {
          "base_uri": "https://localhost:8080/",
          "height": 206
        }
      },
      "outputs": [
        {
          "output_type": "execute_result",
          "data": {
            "text/plain": [
              "                                            Sentence Sentiment\n",
              "0  The GeoSolutions technology will leverage Bene...  positive\n",
              "1  $ESI on lows, down $1.50 to $2.50 BK a real po...  negative\n",
              "2  For the last quarter of 2010 , Componenta 's n...  positive\n",
              "3  According to the Finnish-Russian Chamber of Co...   neutral\n",
              "4  The Swedish buyout firm has sold its remaining...   neutral"
            ],
            "text/html": [
              "\n",
              "  <div id=\"df-9bdaa3cb-de38-4d1f-b3d3-6dd3a95c7f2e\" class=\"colab-df-container\">\n",
              "    <div>\n",
              "<style scoped>\n",
              "    .dataframe tbody tr th:only-of-type {\n",
              "        vertical-align: middle;\n",
              "    }\n",
              "\n",
              "    .dataframe tbody tr th {\n",
              "        vertical-align: top;\n",
              "    }\n",
              "\n",
              "    .dataframe thead th {\n",
              "        text-align: right;\n",
              "    }\n",
              "</style>\n",
              "<table border=\"1\" class=\"dataframe\">\n",
              "  <thead>\n",
              "    <tr style=\"text-align: right;\">\n",
              "      <th></th>\n",
              "      <th>Sentence</th>\n",
              "      <th>Sentiment</th>\n",
              "    </tr>\n",
              "  </thead>\n",
              "  <tbody>\n",
              "    <tr>\n",
              "      <th>0</th>\n",
              "      <td>The GeoSolutions technology will leverage Bene...</td>\n",
              "      <td>positive</td>\n",
              "    </tr>\n",
              "    <tr>\n",
              "      <th>1</th>\n",
              "      <td>$ESI on lows, down $1.50 to $2.50 BK a real po...</td>\n",
              "      <td>negative</td>\n",
              "    </tr>\n",
              "    <tr>\n",
              "      <th>2</th>\n",
              "      <td>For the last quarter of 2010 , Componenta 's n...</td>\n",
              "      <td>positive</td>\n",
              "    </tr>\n",
              "    <tr>\n",
              "      <th>3</th>\n",
              "      <td>According to the Finnish-Russian Chamber of Co...</td>\n",
              "      <td>neutral</td>\n",
              "    </tr>\n",
              "    <tr>\n",
              "      <th>4</th>\n",
              "      <td>The Swedish buyout firm has sold its remaining...</td>\n",
              "      <td>neutral</td>\n",
              "    </tr>\n",
              "  </tbody>\n",
              "</table>\n",
              "</div>\n",
              "    <div class=\"colab-df-buttons\">\n",
              "      \n",
              "  <div class=\"colab-df-container\">\n",
              "    <button class=\"colab-df-convert\" onclick=\"convertToInteractive('df-9bdaa3cb-de38-4d1f-b3d3-6dd3a95c7f2e')\"\n",
              "            title=\"Convert this dataframe to an interactive table.\"\n",
              "            style=\"display:none;\">\n",
              "      \n",
              "  <svg xmlns=\"http://www.w3.org/2000/svg\" height=\"24px\" viewBox=\"0 -960 960 960\">\n",
              "    <path d=\"M120-120v-720h720v720H120Zm60-500h600v-160H180v160Zm220 220h160v-160H400v160Zm0 220h160v-160H400v160ZM180-400h160v-160H180v160Zm440 0h160v-160H620v160ZM180-180h160v-160H180v160Zm440 0h160v-160H620v160Z\"/>\n",
              "  </svg>\n",
              "    </button>\n",
              "    \n",
              "  <style>\n",
              "    .colab-df-container {\n",
              "      display:flex;\n",
              "      gap: 12px;\n",
              "    }\n",
              "\n",
              "    .colab-df-convert {\n",
              "      background-color: #E8F0FE;\n",
              "      border: none;\n",
              "      border-radius: 50%;\n",
              "      cursor: pointer;\n",
              "      display: none;\n",
              "      fill: #1967D2;\n",
              "      height: 32px;\n",
              "      padding: 0 0 0 0;\n",
              "      width: 32px;\n",
              "    }\n",
              "\n",
              "    .colab-df-convert:hover {\n",
              "      background-color: #E2EBFA;\n",
              "      box-shadow: 0px 1px 2px rgba(60, 64, 67, 0.3), 0px 1px 3px 1px rgba(60, 64, 67, 0.15);\n",
              "      fill: #174EA6;\n",
              "    }\n",
              "\n",
              "    .colab-df-buttons div {\n",
              "      margin-bottom: 4px;\n",
              "    }\n",
              "\n",
              "    [theme=dark] .colab-df-convert {\n",
              "      background-color: #3B4455;\n",
              "      fill: #D2E3FC;\n",
              "    }\n",
              "\n",
              "    [theme=dark] .colab-df-convert:hover {\n",
              "      background-color: #434B5C;\n",
              "      box-shadow: 0px 1px 3px 1px rgba(0, 0, 0, 0.15);\n",
              "      filter: drop-shadow(0px 1px 2px rgba(0, 0, 0, 0.3));\n",
              "      fill: #FFFFFF;\n",
              "    }\n",
              "  </style>\n",
              "\n",
              "    <script>\n",
              "      const buttonEl =\n",
              "        document.querySelector('#df-9bdaa3cb-de38-4d1f-b3d3-6dd3a95c7f2e button.colab-df-convert');\n",
              "      buttonEl.style.display =\n",
              "        google.colab.kernel.accessAllowed ? 'block' : 'none';\n",
              "\n",
              "      async function convertToInteractive(key) {\n",
              "        const element = document.querySelector('#df-9bdaa3cb-de38-4d1f-b3d3-6dd3a95c7f2e');\n",
              "        const dataTable =\n",
              "          await google.colab.kernel.invokeFunction('convertToInteractive',\n",
              "                                                    [key], {});\n",
              "        if (!dataTable) return;\n",
              "\n",
              "        const docLinkHtml = 'Like what you see? Visit the ' +\n",
              "          '<a target=\"_blank\" href=https://colab.research.google.com/notebooks/data_table.ipynb>data table notebook</a>'\n",
              "          + ' to learn more about interactive tables.';\n",
              "        element.innerHTML = '';\n",
              "        dataTable['output_type'] = 'display_data';\n",
              "        await google.colab.output.renderOutput(dataTable, element);\n",
              "        const docLink = document.createElement('div');\n",
              "        docLink.innerHTML = docLinkHtml;\n",
              "        element.appendChild(docLink);\n",
              "      }\n",
              "    </script>\n",
              "  </div>\n",
              "  \n",
              "    </div>\n",
              "  </div>\n",
              "  "
            ]
          },
          "metadata": {},
          "execution_count": 5
        }
      ],
      "execution_count": 5
    },
    {
      "cell_type": "code",
      "source": [
        "hf=df.copy()"
      ],
      "metadata": {
        "trusted": true,
        "execution": {
          "iopub.status.busy": "2024-12-19T08:30:57.720354Z",
          "iopub.execute_input": "2024-12-19T08:30:57.720895Z",
          "iopub.status.idle": "2024-12-19T08:30:57.726187Z",
          "shell.execute_reply.started": "2024-12-19T08:30:57.72084Z",
          "shell.execute_reply": "2024-12-19T08:30:57.724765Z"
        },
        "id": "pDusj5J_UpRY"
      },
      "outputs": [],
      "execution_count": 6
    },
    {
      "cell_type": "code",
      "source": [
        "hf['Sentiment'].replace(['positive','neutral','negative'],[0,1,2],inplace=True)"
      ],
      "metadata": {
        "trusted": true,
        "execution": {
          "iopub.status.busy": "2024-12-19T08:30:59.789652Z",
          "iopub.execute_input": "2024-12-19T08:30:59.790168Z",
          "iopub.status.idle": "2024-12-19T08:30:59.802955Z",
          "shell.execute_reply.started": "2024-12-19T08:30:59.790126Z",
          "shell.execute_reply": "2024-12-19T08:30:59.801697Z"
        },
        "id": "kC5AaBHkUpRY",
        "outputId": "6a0d5882-5511-475f-83f1-4f90c803dcaa",
        "colab": {
          "base_uri": "https://localhost:8080/"
        }
      },
      "outputs": [
        {
          "output_type": "stream",
          "name": "stderr",
          "text": [
            "<ipython-input-7-25283a87dac6>:1: FutureWarning: A value is trying to be set on a copy of a DataFrame or Series through chained assignment using an inplace method.\n",
            "The behavior will change in pandas 3.0. This inplace method will never work because the intermediate object on which we are setting values always behaves as a copy.\n",
            "\n",
            "For example, when doing 'df[col].method(value, inplace=True)', try using 'df.method({col: value}, inplace=True)' or df[col] = df[col].method(value) instead, to perform the operation inplace on the original object.\n",
            "\n",
            "\n",
            "  hf['Sentiment'].replace(['positive','neutral','negative'],[0,1,2],inplace=True)\n",
            "<ipython-input-7-25283a87dac6>:1: FutureWarning: Downcasting behavior in `replace` is deprecated and will be removed in a future version. To retain the old behavior, explicitly call `result.infer_objects(copy=False)`. To opt-in to the future behavior, set `pd.set_option('future.no_silent_downcasting', True)`\n",
            "  hf['Sentiment'].replace(['positive','neutral','negative'],[0,1,2],inplace=True)\n"
          ]
        }
      ],
      "execution_count": 7
    },
    {
      "cell_type": "code",
      "source": [
        "hf['Sentiment']"
      ],
      "metadata": {
        "trusted": true,
        "execution": {
          "iopub.status.busy": "2024-12-19T08:31:02.065138Z",
          "iopub.execute_input": "2024-12-19T08:31:02.065468Z",
          "iopub.status.idle": "2024-12-19T08:31:02.074239Z",
          "shell.execute_reply.started": "2024-12-19T08:31:02.065435Z",
          "shell.execute_reply": "2024-12-19T08:31:02.073005Z"
        },
        "id": "M-YuQWsvUpRZ",
        "outputId": "e9dfb074-2412-4e93-fa9f-b02440dac461",
        "colab": {
          "base_uri": "https://localhost:8080/",
          "height": 458
        }
      },
      "outputs": [
        {
          "output_type": "execute_result",
          "data": {
            "text/plain": [
              "0       0\n",
              "1       2\n",
              "2       0\n",
              "3       1\n",
              "4       1\n",
              "       ..\n",
              "5837    2\n",
              "5838    1\n",
              "5839    1\n",
              "5840    1\n",
              "5841    0\n",
              "Name: Sentiment, Length: 5842, dtype: int64"
            ],
            "text/html": [
              "<div>\n",
              "<style scoped>\n",
              "    .dataframe tbody tr th:only-of-type {\n",
              "        vertical-align: middle;\n",
              "    }\n",
              "\n",
              "    .dataframe tbody tr th {\n",
              "        vertical-align: top;\n",
              "    }\n",
              "\n",
              "    .dataframe thead th {\n",
              "        text-align: right;\n",
              "    }\n",
              "</style>\n",
              "<table border=\"1\" class=\"dataframe\">\n",
              "  <thead>\n",
              "    <tr style=\"text-align: right;\">\n",
              "      <th></th>\n",
              "      <th>Sentiment</th>\n",
              "    </tr>\n",
              "  </thead>\n",
              "  <tbody>\n",
              "    <tr>\n",
              "      <th>0</th>\n",
              "      <td>0</td>\n",
              "    </tr>\n",
              "    <tr>\n",
              "      <th>1</th>\n",
              "      <td>2</td>\n",
              "    </tr>\n",
              "    <tr>\n",
              "      <th>2</th>\n",
              "      <td>0</td>\n",
              "    </tr>\n",
              "    <tr>\n",
              "      <th>3</th>\n",
              "      <td>1</td>\n",
              "    </tr>\n",
              "    <tr>\n",
              "      <th>4</th>\n",
              "      <td>1</td>\n",
              "    </tr>\n",
              "    <tr>\n",
              "      <th>...</th>\n",
              "      <td>...</td>\n",
              "    </tr>\n",
              "    <tr>\n",
              "      <th>5837</th>\n",
              "      <td>2</td>\n",
              "    </tr>\n",
              "    <tr>\n",
              "      <th>5838</th>\n",
              "      <td>1</td>\n",
              "    </tr>\n",
              "    <tr>\n",
              "      <th>5839</th>\n",
              "      <td>1</td>\n",
              "    </tr>\n",
              "    <tr>\n",
              "      <th>5840</th>\n",
              "      <td>1</td>\n",
              "    </tr>\n",
              "    <tr>\n",
              "      <th>5841</th>\n",
              "      <td>0</td>\n",
              "    </tr>\n",
              "  </tbody>\n",
              "</table>\n",
              "<p>5842 rows × 1 columns</p>\n",
              "</div><br><label><b>dtype:</b> int64</label>"
            ]
          },
          "metadata": {},
          "execution_count": 8
        }
      ],
      "execution_count": 8
    },
    {
      "cell_type": "code",
      "source": [
        "from sklearn.model_selection import train_test_split"
      ],
      "metadata": {
        "trusted": true,
        "execution": {
          "iopub.status.busy": "2024-12-19T08:03:26.964554Z",
          "iopub.execute_input": "2024-12-19T08:03:26.964943Z",
          "iopub.status.idle": "2024-12-19T08:03:26.969606Z",
          "shell.execute_reply.started": "2024-12-19T08:03:26.964914Z",
          "shell.execute_reply": "2024-12-19T08:03:26.968494Z"
        },
        "id": "yKsaBCzkUpRa"
      },
      "outputs": [],
      "execution_count": 9
    },
    {
      "cell_type": "code",
      "source": [
        "from sklearn.ensemble import RandomForestClassifier\n",
        "from xgboost import XGBClassifier\n"
      ],
      "metadata": {
        "trusted": true,
        "execution": {
          "iopub.status.busy": "2024-12-19T08:13:58.025169Z",
          "iopub.execute_input": "2024-12-19T08:13:58.025508Z",
          "iopub.status.idle": "2024-12-19T08:13:58.030542Z",
          "shell.execute_reply.started": "2024-12-19T08:13:58.025483Z",
          "shell.execute_reply": "2024-12-19T08:13:58.029274Z"
        },
        "id": "XRJiuj_sUpRa"
      },
      "outputs": [],
      "execution_count": 10
    },
    {
      "cell_type": "code",
      "source": [
        "rf=RandomForestClassifier()\n",
        "xg=XGBClassifier()"
      ],
      "metadata": {
        "trusted": true,
        "execution": {
          "iopub.status.busy": "2024-12-19T08:14:20.371376Z",
          "iopub.execute_input": "2024-12-19T08:14:20.371834Z",
          "iopub.status.idle": "2024-12-19T08:14:20.377453Z",
          "shell.execute_reply.started": "2024-12-19T08:14:20.371802Z",
          "shell.execute_reply": "2024-12-19T08:14:20.375983Z"
        },
        "id": "nYQAcXcvUpRa"
      },
      "outputs": [],
      "execution_count": 11
    },
    {
      "cell_type": "code",
      "source": [
        "from nltk.corpus import stopwords\n",
        "from nltk.stem.porter import PorterStemmer"
      ],
      "metadata": {
        "trusted": true,
        "execution": {
          "iopub.status.busy": "2024-12-19T09:06:06.065589Z",
          "iopub.execute_input": "2024-12-19T09:06:06.066083Z",
          "iopub.status.idle": "2024-12-19T09:06:06.071238Z",
          "shell.execute_reply.started": "2024-12-19T09:06:06.066053Z",
          "shell.execute_reply": "2024-12-19T09:06:06.069864Z"
        },
        "id": "xCtwvTccUpRb"
      },
      "outputs": [],
      "execution_count": 12
    },
    {
      "cell_type": "code",
      "source": [
        "stemmer=PorterStemmer()"
      ],
      "metadata": {
        "trusted": true,
        "execution": {
          "iopub.status.busy": "2024-12-19T09:08:18.385894Z",
          "iopub.execute_input": "2024-12-19T09:08:18.386354Z",
          "iopub.status.idle": "2024-12-19T09:08:18.391375Z",
          "shell.execute_reply.started": "2024-12-19T09:08:18.386324Z",
          "shell.execute_reply": "2024-12-19T09:08:18.390065Z"
        },
        "id": "zW9V7yF4UpRb"
      },
      "outputs": [],
      "execution_count": 13
    },
    {
      "cell_type": "code",
      "source": [
        "import re\n",
        "import nltk\n",
        "nltk.download('stopwords')"
      ],
      "metadata": {
        "id": "4Hwq4FshXoha",
        "outputId": "4e9952c4-3539-409c-8be0-87c58e923d50",
        "colab": {
          "base_uri": "https://localhost:8080/"
        }
      },
      "execution_count": 14,
      "outputs": [
        {
          "output_type": "stream",
          "name": "stderr",
          "text": [
            "[nltk_data] Downloading package stopwords to /root/nltk_data...\n",
            "[nltk_data]   Package stopwords is already up-to-date!\n"
          ]
        },
        {
          "output_type": "execute_result",
          "data": {
            "text/plain": [
              "True"
            ]
          },
          "metadata": {},
          "execution_count": 14
        }
      ]
    },
    {
      "cell_type": "code",
      "source": [],
      "metadata": {
        "id": "z7O681mnaiA4"
      },
      "execution_count": null,
      "outputs": []
    },
    {
      "cell_type": "code",
      "source": [
        "def stemming(con):\n",
        "    content=re.sub(\"[^a-zA-z]\",\" \",con)\n",
        "    content=content.lower()\n",
        "    content=content.split()\n",
        "    content=[stemmer.stem(word) for word in content if not word in stopwords.words('english')]\n",
        "    content=' '.join(content)\n",
        "    return content\n",
        ""
      ],
      "metadata": {
        "trusted": true,
        "execution": {
          "iopub.status.busy": "2024-12-19T09:16:32.705529Z",
          "iopub.execute_input": "2024-12-19T09:16:32.70602Z",
          "iopub.status.idle": "2024-12-19T09:16:32.71161Z",
          "shell.execute_reply.started": "2024-12-19T09:16:32.705987Z",
          "shell.execute_reply": "2024-12-19T09:16:32.710288Z"
        },
        "id": "je1SSorIUpRb"
      },
      "outputs": [],
      "execution_count": 15
    },
    {
      "cell_type": "code",
      "source": [
        "#converting the above function to a class that can then be applied through pipeline\n",
        "from sklearn.base import BaseEstimator, TransformerMixin\n",
        "\n",
        "class StemmingTransformer(BaseEstimator,TransformerMixin):\n",
        "    def __init__(self):\n",
        "      self.stemmer=PorterStemmer()\n",
        "\n",
        "    def fit(self,X,y=None):\n",
        "      return self\n",
        "\n",
        "    def transform(self,X,y=None):\n",
        "      X = X.astype(str)\n",
        "      return X.apply(self.stemming)\n",
        "\n",
        "    def stemming(self,con):\n",
        "      content=re.sub(\"[^a-zA-z]\",\" \",con)\n",
        "      content=content.lower()\n",
        "      content=content.split()\n",
        "      content = [self.stemmer.stem(word) for word in content if not word in stopwords.words('english')]\n",
        "      content = ' '.join(content)\n",
        "      return content\n",
        "\n",
        "\n",
        "\n"
      ],
      "metadata": {
        "id": "OCm3M9N1auIJ"
      },
      "execution_count": 27,
      "outputs": []
    },
    {
      "cell_type": "code",
      "source": [
        "hf['Sentence']=hf['Sentence'].apply(stemming)"
      ],
      "metadata": {
        "trusted": true,
        "execution": {
          "iopub.status.busy": "2024-12-19T09:16:34.559768Z",
          "iopub.execute_input": "2024-12-19T09:16:34.56012Z",
          "iopub.status.idle": "2024-12-19T09:16:48.707079Z",
          "shell.execute_reply.started": "2024-12-19T09:16:34.560091Z",
          "shell.execute_reply": "2024-12-19T09:16:48.706114Z"
        },
        "id": "vG656xAtUpRb"
      },
      "outputs": [],
      "execution_count": 16
    },
    {
      "cell_type": "code",
      "source": [
        "hf['Sentence']"
      ],
      "metadata": {
        "trusted": true,
        "execution": {
          "iopub.status.busy": "2024-12-19T09:25:33.20972Z",
          "iopub.execute_input": "2024-12-19T09:25:33.210161Z",
          "iopub.status.idle": "2024-12-19T09:25:33.220043Z",
          "shell.execute_reply.started": "2024-12-19T09:25:33.210126Z",
          "shell.execute_reply": "2024-12-19T09:25:33.219085Z"
        },
        "id": "aT76mnwSUpRb",
        "outputId": "1a96cb07-1ff0-4590-d829-5ecf48718a74",
        "colab": {
          "base_uri": "https://localhost:8080/",
          "height": 458
        }
      },
      "outputs": [
        {
          "output_type": "execute_result",
          "data": {
            "text/plain": [
              "0       geosolut technolog leverag benefon gp solut pr...\n",
              "1                                 esi low bk real possibl\n",
              "2       last quarter componenta net sale doubl eur eur...\n",
              "3       accord finnish russian chamber commerc major c...\n",
              "4       swedish buyout firm sold remain percent stake ...\n",
              "                              ...                        \n",
              "5837    rise cost forc packag produc huhtamaki axe job...\n",
              "5838    nordic walk first use summer train method cros...\n",
              "5839    accord ship compani vike line eu decis signifi...\n",
              "5840          build home improv trade sale decreas eur mn\n",
              "5841    helsinki afx kci konecran said order four hot ...\n",
              "Name: Sentence, Length: 5842, dtype: object"
            ],
            "text/html": [
              "<div>\n",
              "<style scoped>\n",
              "    .dataframe tbody tr th:only-of-type {\n",
              "        vertical-align: middle;\n",
              "    }\n",
              "\n",
              "    .dataframe tbody tr th {\n",
              "        vertical-align: top;\n",
              "    }\n",
              "\n",
              "    .dataframe thead th {\n",
              "        text-align: right;\n",
              "    }\n",
              "</style>\n",
              "<table border=\"1\" class=\"dataframe\">\n",
              "  <thead>\n",
              "    <tr style=\"text-align: right;\">\n",
              "      <th></th>\n",
              "      <th>Sentence</th>\n",
              "    </tr>\n",
              "  </thead>\n",
              "  <tbody>\n",
              "    <tr>\n",
              "      <th>0</th>\n",
              "      <td>geosolut technolog leverag benefon gp solut pr...</td>\n",
              "    </tr>\n",
              "    <tr>\n",
              "      <th>1</th>\n",
              "      <td>esi low bk real possibl</td>\n",
              "    </tr>\n",
              "    <tr>\n",
              "      <th>2</th>\n",
              "      <td>last quarter componenta net sale doubl eur eur...</td>\n",
              "    </tr>\n",
              "    <tr>\n",
              "      <th>3</th>\n",
              "      <td>accord finnish russian chamber commerc major c...</td>\n",
              "    </tr>\n",
              "    <tr>\n",
              "      <th>4</th>\n",
              "      <td>swedish buyout firm sold remain percent stake ...</td>\n",
              "    </tr>\n",
              "    <tr>\n",
              "      <th>...</th>\n",
              "      <td>...</td>\n",
              "    </tr>\n",
              "    <tr>\n",
              "      <th>5837</th>\n",
              "      <td>rise cost forc packag produc huhtamaki axe job...</td>\n",
              "    </tr>\n",
              "    <tr>\n",
              "      <th>5838</th>\n",
              "      <td>nordic walk first use summer train method cros...</td>\n",
              "    </tr>\n",
              "    <tr>\n",
              "      <th>5839</th>\n",
              "      <td>accord ship compani vike line eu decis signifi...</td>\n",
              "    </tr>\n",
              "    <tr>\n",
              "      <th>5840</th>\n",
              "      <td>build home improv trade sale decreas eur mn</td>\n",
              "    </tr>\n",
              "    <tr>\n",
              "      <th>5841</th>\n",
              "      <td>helsinki afx kci konecran said order four hot ...</td>\n",
              "    </tr>\n",
              "  </tbody>\n",
              "</table>\n",
              "<p>5842 rows × 1 columns</p>\n",
              "</div><br><label><b>dtype:</b> object</label>"
            ]
          },
          "metadata": {},
          "execution_count": 17
        }
      ],
      "execution_count": 17
    },
    {
      "cell_type": "code",
      "source": [
        "from sklearn.feature_extraction.text import CountVectorizer"
      ],
      "metadata": {
        "trusted": true,
        "execution": {
          "iopub.status.busy": "2024-12-19T09:30:52.466118Z",
          "iopub.execute_input": "2024-12-19T09:30:52.466508Z",
          "iopub.status.idle": "2024-12-19T09:30:52.471111Z",
          "shell.execute_reply.started": "2024-12-19T09:30:52.466479Z",
          "shell.execute_reply": "2024-12-19T09:30:52.470045Z"
        },
        "id": "Ax-YUWi5UpRc"
      },
      "outputs": [],
      "execution_count": 18
    },
    {
      "cell_type": "code",
      "source": [
        "cv=CountVectorizer(ngram_range=(1,1))\n",
        "u=cv.fit_transform(hf['Sentence'])\n",
        "v=hf['Sentiment']"
      ],
      "metadata": {
        "trusted": true,
        "execution": {
          "iopub.status.busy": "2024-12-19T10:25:10.40531Z",
          "iopub.execute_input": "2024-12-19T10:25:10.405766Z",
          "iopub.status.idle": "2024-12-19T10:25:10.530013Z",
          "shell.execute_reply.started": "2024-12-19T10:25:10.40573Z",
          "shell.execute_reply": "2024-12-19T10:25:10.528554Z"
        },
        "id": "6itbqg9eUpRc"
      },
      "outputs": [],
      "execution_count": 19
    },
    {
      "cell_type": "code",
      "source": [
        "u_train,u_test,v_train,v_test=train_test_split(u,v,test_size=0.05,random_state=82)"
      ],
      "metadata": {
        "trusted": true,
        "execution": {
          "iopub.status.busy": "2024-12-19T10:31:15.747839Z",
          "iopub.execute_input": "2024-12-19T10:31:15.748171Z",
          "iopub.status.idle": "2024-12-19T10:31:15.757295Z",
          "shell.execute_reply.started": "2024-12-19T10:31:15.748146Z",
          "shell.execute_reply": "2024-12-19T10:31:15.756114Z"
        },
        "id": "3nC_lUSaUpRc"
      },
      "outputs": [],
      "execution_count": 20
    },
    {
      "cell_type": "code",
      "source": [
        "\n",
        "xg.fit(u_train,v_train)"
      ],
      "metadata": {
        "trusted": true,
        "execution": {
          "iopub.status.busy": "2024-12-19T10:31:18.127138Z",
          "iopub.execute_input": "2024-12-19T10:31:18.1275Z",
          "iopub.status.idle": "2024-12-19T10:31:43.48209Z",
          "shell.execute_reply.started": "2024-12-19T10:31:18.127474Z",
          "shell.execute_reply": "2024-12-19T10:31:43.481233Z"
        },
        "id": "CSrCeYU8UpRc",
        "outputId": "bdb05479-b8de-47a3-87eb-7e52570b2308",
        "colab": {
          "base_uri": "https://localhost:8080/"
        }
      },
      "outputs": [
        {
          "output_type": "execute_result",
          "data": {
            "text/plain": [
              "XGBClassifier(base_score=None, booster=None, callbacks=None,\n",
              "              colsample_bylevel=None, colsample_bynode=None,\n",
              "              colsample_bytree=None, device=None, early_stopping_rounds=None,\n",
              "              enable_categorical=False, eval_metric=None, feature_types=None,\n",
              "              gamma=None, grow_policy=None, importance_type=None,\n",
              "              interaction_constraints=None, learning_rate=None, max_bin=None,\n",
              "              max_cat_threshold=None, max_cat_to_onehot=None,\n",
              "              max_delta_step=None, max_depth=None, max_leaves=None,\n",
              "              min_child_weight=None, missing=nan, monotone_constraints=None,\n",
              "              multi_strategy=None, n_estimators=None, n_jobs=None,\n",
              "              num_parallel_tree=None, objective='multi:softprob', ...)"
            ]
          },
          "metadata": {},
          "execution_count": 21
        }
      ],
      "execution_count": 21
    },
    {
      "cell_type": "code",
      "source": [
        "xg.score(u_test,v_test)"
      ],
      "metadata": {
        "trusted": true,
        "execution": {
          "iopub.status.busy": "2024-12-19T10:32:05.306065Z",
          "iopub.execute_input": "2024-12-19T10:32:05.306494Z",
          "iopub.status.idle": "2024-12-19T10:32:05.319434Z",
          "shell.execute_reply.started": "2024-12-19T10:32:05.306464Z",
          "shell.execute_reply": "2024-12-19T10:32:05.318625Z"
        },
        "id": "evKT4Gk3UpRc",
        "outputId": "25e40476-d30f-40ed-eecd-939692de6e56",
        "colab": {
          "base_uri": "https://localhost:8080/"
        }
      },
      "outputs": [
        {
          "output_type": "execute_result",
          "data": {
            "text/plain": [
              "0.7064846416382252"
            ]
          },
          "metadata": {},
          "execution_count": 22
        }
      ],
      "execution_count": 22
    },
    {
      "cell_type": "code",
      "source": [
        "from sklearn.pipeline import Pipeline"
      ],
      "metadata": {
        "trusted": true,
        "execution": {
          "iopub.status.busy": "2024-12-19T10:38:37.220072Z",
          "iopub.execute_input": "2024-12-19T10:38:37.220537Z",
          "iopub.status.idle": "2024-12-19T10:38:37.241442Z",
          "shell.execute_reply.started": "2024-12-19T10:38:37.220504Z",
          "shell.execute_reply": "2024-12-19T10:38:37.240095Z"
        },
        "id": "0S9kFzW3UpRi"
      },
      "outputs": [],
      "execution_count": 24
    },
    {
      "cell_type": "code",
      "source": [
        "steps=([('stemming',StemmingTransformer()),('cv',CountVectorizer(ngram_range=(1,1))),('xg',XGBClassifier())])\n"
      ],
      "metadata": {
        "trusted": true,
        "id": "T1Fb7iSmUpRi"
      },
      "outputs": [],
      "execution_count": 28
    },
    {
      "cell_type": "code",
      "source": [
        "pi=Pipeline(steps)"
      ],
      "metadata": {
        "id": "15MvQ8Z_cC5j"
      },
      "execution_count": 30,
      "outputs": []
    },
    {
      "cell_type": "code",
      "source": [
        "pi.fit(hf['Sentence'],hf['Sentiment'])"
      ],
      "metadata": {
        "id": "H1d3BBoDcGRA",
        "outputId": "4629fa2e-dfdf-4c2d-acb0-ede1c61e7e13",
        "colab": {
          "base_uri": "https://localhost:8080/"
        }
      },
      "execution_count": 32,
      "outputs": [
        {
          "output_type": "execute_result",
          "data": {
            "text/plain": [
              "Pipeline(steps=[('stemming', StemmingTransformer()), ('cv', CountVectorizer()),\n",
              "                ('xg',\n",
              "                 XGBClassifier(base_score=None, booster=None, callbacks=None,\n",
              "                               colsample_bylevel=None, colsample_bynode=None,\n",
              "                               colsample_bytree=None, device=None,\n",
              "                               early_stopping_rounds=None,\n",
              "                               enable_categorical=False, eval_metric=None,\n",
              "                               feature_types=None, gamma=None, grow_policy=None,\n",
              "                               importance_type=None,\n",
              "                               interaction_constraints=None, learning_rate=None,\n",
              "                               max_bin=None, max_cat_threshold=None,\n",
              "                               max_cat_to_onehot=None, max_delta_step=None,\n",
              "                               max_depth=None, max_leaves=None,\n",
              "                               min_child_weight=None, missing=nan,\n",
              "                               monotone_constraints=None, multi_strategy=None,\n",
              "                               n_estimators=None, n_jobs=None,\n",
              "                               num_parallel_tree=None,\n",
              "                               objective='multi:softprob', ...))])"
            ]
          },
          "metadata": {},
          "execution_count": 32
        }
      ]
    },
    {
      "cell_type": "code",
      "source": [],
      "metadata": {
        "id": "oa6LJ_HEcOzb"
      },
      "execution_count": null,
      "outputs": []
    }
  ]
}